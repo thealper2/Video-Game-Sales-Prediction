{
 "cells": [
  {
   "cell_type": "code",
   "execution_count": 59,
   "id": "b3418d4b",
   "metadata": {},
   "outputs": [],
   "source": [
    "import numpy as np\n",
    "import pandas as pd\n",
    "from sklearn.linear_model import LinearRegression\n",
    "from sklearn.preprocessing import LabelEncoder\n",
    "from sklearn.svm import SVR\n",
    "from sklearn.model_selection import train_test_split\n",
    "from sklearn.metrics import accuracy_score, r2_score"
   ]
  },
  {
   "cell_type": "code",
   "execution_count": 107,
   "id": "5fb44b25",
   "metadata": {},
   "outputs": [],
   "source": [
    "df = pd.read_csv(\"vgsales.csv\")"
   ]
  },
  {
   "cell_type": "code",
   "execution_count": 110,
   "id": "381d0e54",
   "metadata": {},
   "outputs": [
    {
     "data": {
      "text/plain": [
       "(16598, 11)"
      ]
     },
     "execution_count": 110,
     "metadata": {},
     "output_type": "execute_result"
    }
   ],
   "source": [
    "df.shape"
   ]
  },
  {
   "cell_type": "code",
   "execution_count": 111,
   "id": "8fe6d59d",
   "metadata": {},
   "outputs": [],
   "source": [
    "df = df.dropna(how=\"any\")"
   ]
  },
  {
   "cell_type": "code",
   "execution_count": 112,
   "id": "b9d0c098",
   "metadata": {},
   "outputs": [
    {
     "data": {
      "text/plain": [
       "Rank            0\n",
       "Name            0\n",
       "Platform        0\n",
       "Year            0\n",
       "Genre           0\n",
       "Publisher       0\n",
       "NA_Sales        0\n",
       "EU_Sales        0\n",
       "JP_Sales        0\n",
       "Other_Sales     0\n",
       "Global_Sales    0\n",
       "dtype: int64"
      ]
     },
     "execution_count": 112,
     "metadata": {},
     "output_type": "execute_result"
    }
   ],
   "source": [
    "df.isnull().sum()"
   ]
  },
  {
   "cell_type": "code",
   "execution_count": 113,
   "id": "f2e1486e",
   "metadata": {},
   "outputs": [
    {
     "data": {
      "text/plain": [
       "(16291, 11)"
      ]
     },
     "execution_count": 113,
     "metadata": {},
     "output_type": "execute_result"
    }
   ],
   "source": [
    "df.shape"
   ]
  },
  {
   "cell_type": "code",
   "execution_count": 116,
   "id": "2edb480e",
   "metadata": {},
   "outputs": [],
   "source": [
    "def platform_encode(text):\n",
    "    if text == \"DS\":\n",
    "        return text\n",
    "    elif text == \"PS2\":\n",
    "        return \"PS\"\n",
    "    elif text == \"PS3\":\n",
    "        return \"PS\"\n",
    "    elif text == \"Wii\":\n",
    "        return text\n",
    "    elif text == \"X360\":\n",
    "        return text\n",
    "    elif text == \"PSP\":\n",
    "        return text\n",
    "    elif text == \"PS\":\n",
    "        return \"PS\"\n",
    "    elif text == \"PC\":\n",
    "        return text\n",
    "    elif text == \"PS4\":\n",
    "        return \"PS\"\n",
    "    else:\n",
    "        return \"Other\""
   ]
  },
  {
   "cell_type": "code",
   "execution_count": 117,
   "id": "7f773a36",
   "metadata": {},
   "outputs": [],
   "source": [
    "df[\"Platform\"] = df[\"Platform\"].apply(platform_encode)"
   ]
  },
  {
   "cell_type": "code",
   "execution_count": 118,
   "id": "4855b019",
   "metadata": {},
   "outputs": [
    {
     "data": {
      "text/plain": [
       "PS       4956\n",
       "Other    4545\n",
       "DS       2131\n",
       "Wii      1290\n",
       "X360     1234\n",
       "PSP      1197\n",
       "PC        938\n",
       "Name: Platform, dtype: int64"
      ]
     },
     "execution_count": 118,
     "metadata": {},
     "output_type": "execute_result"
    }
   ],
   "source": [
    "df[\"Platform\"].value_counts()"
   ]
  },
  {
   "cell_type": "code",
   "execution_count": 119,
   "id": "2914d05e",
   "metadata": {},
   "outputs": [],
   "source": [
    "def publisher_encode(text):\n",
    "    if text == \"Electronic Arts\":\n",
    "        return text\n",
    "    elif text == \"Activision\":\n",
    "        return text\n",
    "    elif text == \"Namco Bandai Games\":\n",
    "        return text\n",
    "    elif text == \"Ubisoft\":\n",
    "        return text\n",
    "    elif text == \"Konami Digital Entertainment\":\n",
    "        return text\n",
    "    else:\n",
    "        return \"Other\""
   ]
  },
  {
   "cell_type": "code",
   "execution_count": 120,
   "id": "8074232b",
   "metadata": {},
   "outputs": [],
   "source": [
    "df[\"Publisher\"] = df[\"Publisher\"].apply(publisher_encode)"
   ]
  },
  {
   "cell_type": "code",
   "execution_count": 121,
   "id": "0c478dcf",
   "metadata": {},
   "outputs": [
    {
     "data": {
      "text/plain": [
       "Other                           11317\n",
       "Electronic Arts                  1339\n",
       "Activision                        966\n",
       "Namco Bandai Games                928\n",
       "Ubisoft                           918\n",
       "Konami Digital Entertainment      823\n",
       "Name: Publisher, dtype: int64"
      ]
     },
     "execution_count": 121,
     "metadata": {},
     "output_type": "execute_result"
    }
   ],
   "source": [
    "df[\"Publisher\"].value_counts()"
   ]
  },
  {
   "cell_type": "code",
   "execution_count": 122,
   "id": "dd3af336",
   "metadata": {},
   "outputs": [
    {
     "data": {
      "text/plain": [
       "Action          3251\n",
       "Sports          2304\n",
       "Misc            1686\n",
       "Role-Playing    1470\n",
       "Shooter         1282\n",
       "Adventure       1274\n",
       "Racing          1225\n",
       "Platform         875\n",
       "Simulation       848\n",
       "Fighting         836\n",
       "Strategy         670\n",
       "Puzzle           570\n",
       "Name: Genre, dtype: int64"
      ]
     },
     "execution_count": 122,
     "metadata": {},
     "output_type": "execute_result"
    }
   ],
   "source": [
    "df[\"Genre\"].value_counts()"
   ]
  },
  {
   "cell_type": "code",
   "execution_count": 123,
   "id": "4bcdc185",
   "metadata": {},
   "outputs": [],
   "source": [
    "columns = [\"Platform\", \"Genre\", \"Publisher\"]"
   ]
  },
  {
   "cell_type": "code",
   "execution_count": 124,
   "id": "02ef99d0",
   "metadata": {},
   "outputs": [],
   "source": [
    "def label_encoder(column):\n",
    "    le = LabelEncoder().fit(column)\n",
    "    #print(column.name, le.classes_)\n",
    "    return le.transform(column)"
   ]
  },
  {
   "cell_type": "code",
   "execution_count": 125,
   "id": "9621d418",
   "metadata": {},
   "outputs": [],
   "source": [
    "for col in columns:\n",
    "    df[col] = label_encoder(df[col])"
   ]
  },
  {
   "cell_type": "code",
   "execution_count": 127,
   "id": "df7ddd5e",
   "metadata": {},
   "outputs": [],
   "source": [
    "df[\"Year\"] = df[\"Year\"].astype(\"int\")"
   ]
  },
  {
   "cell_type": "code",
   "execution_count": 129,
   "id": "9849f0e7",
   "metadata": {},
   "outputs": [],
   "source": [
    "df = df.drop([\"Name\", \"Global_Sales\"], axis=1)"
   ]
  },
  {
   "cell_type": "code",
   "execution_count": 130,
   "id": "a5aa2d60",
   "metadata": {},
   "outputs": [],
   "source": [
    "X = df.drop([\"Other_Sales\"], axis=1)\n",
    "y = df[\"Other_Sales\"]"
   ]
  },
  {
   "cell_type": "code",
   "execution_count": 131,
   "id": "b5e3f98a",
   "metadata": {},
   "outputs": [],
   "source": [
    "X_train, X_test, y_train, y_test = train_test_split(X, y, test_size=0.2, random_state=4242)"
   ]
  },
  {
   "cell_type": "code",
   "execution_count": 132,
   "id": "7385cee7",
   "metadata": {},
   "outputs": [
    {
     "name": "stdout",
     "output_type": "stream",
     "text": [
      "Linear Regression: 0.3631398747835617\n"
     ]
    }
   ],
   "source": [
    "linreg = LinearRegression()\n",
    "linreg.fit(X_train, y_train)\n",
    "y_pred = linreg.predict(X_test)\n",
    "print(\"Linear Regression:\", r2_score(y_test, y_pred))"
   ]
  },
  {
   "cell_type": "code",
   "execution_count": null,
   "id": "c88feaf5",
   "metadata": {},
   "outputs": [],
   "source": []
  }
 ],
 "metadata": {
  "kernelspec": {
   "display_name": "Python 3 (ipykernel)",
   "language": "python",
   "name": "python3"
  },
  "language_info": {
   "codemirror_mode": {
    "name": "ipython",
    "version": 3
   },
   "file_extension": ".py",
   "mimetype": "text/x-python",
   "name": "python",
   "nbconvert_exporter": "python",
   "pygments_lexer": "ipython3",
   "version": "3.8.16"
  }
 },
 "nbformat": 4,
 "nbformat_minor": 5
}
